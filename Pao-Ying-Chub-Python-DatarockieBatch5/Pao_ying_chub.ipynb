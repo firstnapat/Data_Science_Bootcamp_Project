{
  "nbformat": 4,
  "nbformat_minor": 0,
  "metadata": {
    "colab": {
      "name": "Pao_ying_chub.ipynb",
      "provenance": [],
      "authorship_tag": "ABX9TyOcqyzfGR4bu6ukZouYhcR3",
      "include_colab_link": true
    },
    "kernelspec": {
      "name": "python3",
      "display_name": "Python 3"
    },
    "language_info": {
      "name": "python"
    }
  },
  "cells": [
    {
      "cell_type": "markdown",
      "metadata": {
        "id": "view-in-github",
        "colab_type": "text"
      },
      "source": [
        "<a href=\"https://colab.research.google.com/github/firstnapat/Pao-Ying-Chub-Python-DatarockieBatch5/blob/main/Pao_ying_chub.ipynb\" target=\"_parent\"><img src=\"https://colab.research.google.com/assets/colab-badge.svg\" alt=\"Open In Colab\"/></a>"
      ]
    },
    {
      "cell_type": "markdown",
      "source": [
        "## Pao Ying Chub\n",
        "## Datarockie Homework\n",
        "1. เป่ายิ้งฉุบ\n",
        "2. Class ATM\n",
        "    * ถอนเงิน\n",
        "    * ฝากเงิน\n",
        "    * เช็คยอด\n",
        "3. Optional Restaurant Class"
      ],
      "metadata": {
        "id": "U2fBTKVfb7-D"
      }
    },
    {
      "cell_type": "code",
      "source": [
        "import random"
      ],
      "metadata": {
        "id": "zcs6zhwjdOfK"
      },
      "execution_count": 6,
      "outputs": []
    },
    {
      "cell_type": "code",
      "source": [
        "print(random.randint(0, 2))\n"
      ],
      "metadata": {
        "colab": {
          "base_uri": "https://localhost:8080/"
        },
        "id": "DjLmtVSfdtbp",
        "outputId": "c3b7d241-a278-4306-9c92-924e9a55b071"
      },
      "execution_count": 10,
      "outputs": [
        {
          "output_type": "stream",
          "name": "stdout",
          "text": [
            "2\n"
          ]
        }
      ]
    },
    {
      "cell_type": "code",
      "source": [
        "comp_hand = [\"rock\", \"paper\", \"scissors\"]\n",
        "print(type(random.choice(comp_hand)))"
      ],
      "metadata": {
        "colab": {
          "base_uri": "https://localhost:8080/"
        },
        "id": "hLMBsF5SeVt-",
        "outputId": "363378c3-4224-44be-e916-1c9726a295ed"
      },
      "execution_count": 14,
      "outputs": [
        {
          "output_type": "stream",
          "name": "stdout",
          "text": [
            "<class 'str'>\n"
          ]
        }
      ]
    },
    {
      "cell_type": "code",
      "source": [
        "def pao_ying_chub():\n",
        "    count_win = 0\n",
        "    count_tie = 0\n",
        "    count_loss = 0\n",
        "    while True:\n",
        "        user_hand = input(\"Hand: \")\n",
        "        comp_hand = [\"rock\", \"paper\", \"scissors\"]\n",
        "        comp_hand = random.choice(comp_hand)\n",
        "        print(\"Computer_hand: \", comp_hand)\n",
        "        if user_hand == \"end\":\n",
        "            return \"Good bye!\"\n",
        "        elif user_hand == comp_hand:\n",
        "            count_tie += 1\n",
        "            print(\"You tie\")\n",
        "        elif user_hand == \"rock\" and comp_hand == \"scissors\":\n",
        "            count_win += 1\n",
        "            print(\"Congratulation your Win!\")\n",
        "             \n",
        "        elif user_hand == \"paper\" and comp_hand == \"rock\":\n",
        "            count_win += 1\n",
        "            print(\"Congratulation your Win!\")\n",
        "        \n",
        "        elif user_hand == \"scissors\" and comp_hand == \"paper\":\n",
        "            count_win += 1\n",
        "            print(\"Congratulation your Win!\")\n",
        "        else:\n",
        "            count_loss += 1\n",
        "            print(\"You Lose. Please try again.\")\n",
        "       \n",
        "        print(\"win: \",count_win,\" tie: \",count_tie,\" loss: \",count_loss)"
      ],
      "metadata": {
        "id": "5ikGMle_b7fd"
      },
      "execution_count": 40,
      "outputs": []
    },
    {
      "cell_type": "code",
      "source": [
        "pao_ying_chub()"
      ],
      "metadata": {
        "colab": {
          "base_uri": "https://localhost:8080/",
          "height": 70
        },
        "id": "JDtH2gAQc85d",
        "outputId": "8542829d-e2db-4192-8872-62964d86cdcf"
      },
      "execution_count": 41,
      "outputs": [
        {
          "output_type": "stream",
          "name": "stdout",
          "text": [
            "Hand: end\n",
            "Computer_hand:  paper\n"
          ]
        },
        {
          "output_type": "execute_result",
          "data": {
            "text/plain": [
              "'Good bye!'"
            ],
            "application/vnd.google.colaboratory.intrinsic+json": {
              "type": "string"
            }
          },
          "metadata": {},
          "execution_count": 41
        }
      ]
    },
    {
      "cell_type": "code",
      "source": [
        "pao_ying_chub()"
      ],
      "metadata": {
        "colab": {
          "base_uri": "https://localhost:8080/",
          "height": 278
        },
        "id": "VMwV_zRt1y_m",
        "outputId": "a41dbf2b-b87e-4b41-bc7f-bdc34cad1f23"
      },
      "execution_count": 71,
      "outputs": [
        {
          "output_type": "stream",
          "name": "stdout",
          "text": [
            "Hand: rock\n",
            "Computer_hand:  paper\n",
            "You Lose. Please try again.\n",
            "win:  0  tie:  0  loss:  1\n",
            "Hand: paper\n",
            "Computer_hand:  rock\n",
            "Congratulation your Win!\n",
            "win:  1  tie:  0  loss:  1\n",
            "Hand: paper\n",
            "Computer_hand:  scissors\n",
            "You Lose. Please try again.\n",
            "win:  1  tie:  0  loss:  2\n",
            "Hand: end\n",
            "Computer_hand:  paper\n"
          ]
        },
        {
          "output_type": "execute_result",
          "data": {
            "text/plain": [
              "'Good bye!'"
            ],
            "application/vnd.google.colaboratory.intrinsic+json": {
              "type": "string"
            }
          },
          "metadata": {},
          "execution_count": 71
        }
      ]
    },
    {
      "cell_type": "markdown",
      "source": [
        "## ATM Class"
      ],
      "metadata": {
        "id": "YtHDTu8poRCg"
      }
    },
    {
      "cell_type": "code",
      "source": [
        "class ATM:\n",
        "    # initialization\n",
        "    def __init__(self, money):\n",
        "        self.money = money\n",
        "        # , deposit_money, withdraw_money\n",
        "        # self.deposit_money = deposit_money\n",
        "        # self.withdraw_money = withdraw_money\n",
        "    def __str__(self):\n",
        "        return \"This is my ATM :)\"\n",
        "    # ATM Methods\n",
        "    def balance_check(self):\n",
        "        print(f\"You have balance {self.money} baht.\")\n",
        "    def deposit(self, deposit_money):\n",
        "        self.money += deposit_money\n",
        "        print(f\"You deposit {deposit_money} baht.\")\n",
        "        # print(f\"You have balance {self.money} baht.\")\n",
        "        self.balance_check()\n",
        "    def withdraw(self, withdraw_money):\n",
        "        self.money -= withdraw_money\n",
        "        print(f\"You withdraw {withdraw_money} baht.\")\n",
        "        self.balance_check()\n",
        "    def transfer(self, transfer_money, people):\n",
        "        self.money -= transfer_money\n",
        "        print(f\"You transfer {transfer_money} baht to {people}.\")\n",
        "        self.balance_check()   \n"
      ],
      "metadata": {
        "id": "dL_jR-6UoSdG"
      },
      "execution_count": 64,
      "outputs": []
    },
    {
      "cell_type": "code",
      "source": [
        "atm1 = ATM(1000000)"
      ],
      "metadata": {
        "id": "jwScJhvsyg9K"
      },
      "execution_count": 66,
      "outputs": []
    },
    {
      "cell_type": "code",
      "source": [
        "atm1.money"
      ],
      "metadata": {
        "colab": {
          "base_uri": "https://localhost:8080/"
        },
        "id": "1P4XSqbuys94",
        "outputId": "cb68d7a9-26fb-4f26-dcc8-2f12f887a0f4"
      },
      "execution_count": 68,
      "outputs": [
        {
          "output_type": "execute_result",
          "data": {
            "text/plain": [
              "1000000"
            ]
          },
          "metadata": {},
          "execution_count": 68
        }
      ]
    },
    {
      "cell_type": "code",
      "source": [
        "atm1.deposit(1000000)"
      ],
      "metadata": {
        "colab": {
          "base_uri": "https://localhost:8080/"
        },
        "id": "KqqUyupJyj5o",
        "outputId": "fd372995-5e67-44ed-e7be-ef6cc4357520"
      },
      "execution_count": 69,
      "outputs": [
        {
          "output_type": "stream",
          "name": "stdout",
          "text": [
            "You deposit 1000000 baht.\n",
            "You have balance 2000000 baht.\n"
          ]
        }
      ]
    },
    {
      "cell_type": "code",
      "source": [
        "atm1.transfer(2000000, \"Nam\")"
      ],
      "metadata": {
        "colab": {
          "base_uri": "https://localhost:8080/"
        },
        "id": "zSoHsOpXy65u",
        "outputId": "cd530acc-da7f-43e9-ef38-9bf37f88f076"
      },
      "execution_count": 70,
      "outputs": [
        {
          "output_type": "stream",
          "name": "stdout",
          "text": [
            "You transfer 2000000 baht to Nam.\n",
            "You have balance 0 baht.\n"
          ]
        }
      ]
    },
    {
      "cell_type": "code",
      "source": [
        "print(atm1)"
      ],
      "metadata": {
        "colab": {
          "base_uri": "https://localhost:8080/"
        },
        "id": "JkhnToEV03lE",
        "outputId": "7c6d1ae2-a1d1-41af-a52c-ea7e95ef4ca4"
      },
      "execution_count": 67,
      "outputs": [
        {
          "output_type": "stream",
          "name": "stdout",
          "text": [
            "This is my ATM :)\n"
          ]
        }
      ]
    },
    {
      "cell_type": "code",
      "source": [
        ""
      ],
      "metadata": {
        "id": "OfHpOtNk1MUs"
      },
      "execution_count": null,
      "outputs": []
    }
  ]
}